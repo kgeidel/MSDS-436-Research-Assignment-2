{
 "cells": [
  {
   "cell_type": "markdown",
   "metadata": {},
   "source": [
    "### Monte Carlo Performance Benchmark: Django vs Gin\n",
    "\n",
    "Kevin Geidel <br>\n",
    "MSDS 436: Analytics Systems Engineering <br>\n",
    "Northwestern University <br>\n",
    "October 27, 2024 <br>\n",
    "\n",
    "Scripts/utils used to initialize the benchmark experiment"
   ]
  },
  {
   "cell_type": "code",
   "execution_count": 1,
   "metadata": {},
   "outputs": [],
   "source": [
    "import json\n",
    "import pandas as pd\n",
    "from scipy.io.arff import loadarff"
   ]
  },
  {
   "cell_type": "code",
   "execution_count": 2,
   "metadata": {},
   "outputs": [],
   "source": [
    "# Load the dataset into a pandas dataframe\n",
    "\n",
    "data = loadarff('../data/dataset_50_tic-tac-toe.arff')\n",
    "df = pd.DataFrame(data[0])"
   ]
  },
  {
   "cell_type": "code",
   "execution_count": null,
   "metadata": {},
   "outputs": [],
   "source": [
    "# Preview the dataset\n",
    "df"
   ]
  },
  {
   "cell_type": "code",
   "execution_count": null,
   "metadata": {},
   "outputs": [],
   "source": [
    "# Use the django app to load the dataset into the SQLite database\n",
    "import django_init\n",
    "from tqdm import tqdm\n",
    "from core.models import EndState\n",
    "\n",
    "def clean_val(val):\n",
    "    if val == b'x':\n",
    "        return 'X'\n",
    "    elif val == b'o':\n",
    "        return 'O'\n",
    "    else:\n",
    "        return None\n",
    "\n",
    "for record in tqdm(df.itertuples()):\n",
    "    EndState.objects.get_or_create(\n",
    "        top_left = clean_val(record[1]),\n",
    "        top_middle = clean_val(record[2]),\n",
    "        top_right = clean_val(record[3]),\n",
    "        middle_left = clean_val(record[4]),\n",
    "        middle_middle = clean_val(record[5]),\n",
    "        middle_right = clean_val(record[6]),\n",
    "        bottom_left = clean_val(record[7]),\n",
    "        bottom_middle = clean_val(record[8]),\n",
    "        bottom_right = clean_val(record[9]),\n",
    "        defaults={'x_wins_flag': True if record[10]==b'positive' else False}\n",
    "    )"
   ]
  },
  {
   "cell_type": "code",
   "execution_count": null,
   "metadata": {},
   "outputs": [],
   "source": [
    "# We can view the queryset of records from the DB in a DF to confirm transfer\n",
    "# (NOTE: The pk of the EndState table becomes an 11th attribute)\n",
    "pd.DataFrame(EndState.objects.values())"
   ]
  }
 ],
 "metadata": {
  "kernelspec": {
   "display_name": "msds436benchmark",
   "language": "python",
   "name": "python3"
  },
  "language_info": {
   "codemirror_mode": {
    "name": "ipython",
    "version": 3
   },
   "file_extension": ".py",
   "mimetype": "text/x-python",
   "name": "python",
   "nbconvert_exporter": "python",
   "pygments_lexer": "ipython3",
   "version": "3.12.6"
  }
 },
 "nbformat": 4,
 "nbformat_minor": 2
}
